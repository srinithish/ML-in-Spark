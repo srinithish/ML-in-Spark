{
 "cells": [
  {
   "cell_type": "markdown",
   "metadata": {},
   "source": [
    "# Project\n",
    "# Srinithish Kandagadla"
   ]
  },
  {
   "cell_type": "code",
   "execution_count": 132,
   "metadata": {},
   "outputs": [
    {
     "name": "stdout",
     "output_type": "stream",
     "text": [
      "2.4.4\n"
     ]
    }
   ],
   "source": [
    "from pyspark.sql import SparkSession\n",
    "\n",
    "from pyspark import SparkConf, SparkContext\n",
    "from pyspark.ml.feature import MinMaxScaler\n",
    "from pyspark.sql.functions import col\n",
    "from pyspark.sql.types import DoubleType\n",
    "import numpy as np\n",
    "import random\n",
    "from pyspark.sql.functions import udf\n",
    "from pyspark.ml.feature import VectorAssembler\n",
    "from pyspark.sql import SparkSession\n",
    "from pyspark.ml.feature import HashingTF, IDF, Tokenizer\n",
    "from pyspark.ml import Pipeline\n",
    "import matplotlib.pyplot as plt\n",
    "import pyspark\n",
    "print(pyspark.__version__)\n",
    "import re\n",
    "from pyspark.ml.feature import CountVectorizer\n",
    "import matplotlib.pyplot as plt\n",
    "from math import log\n",
    "from pyspark.ml.feature import VectorIndexer\n",
    "from pyspark.ml import Pipeline\n",
    "from pyspark.ml.feature import StandardScaler\n",
    "from pyspark.ml.classification import LogisticRegression\n",
    "from pyspark.ml.tuning import ParamGridBuilder, CrossValidator\n",
    "from pyspark.ml.classification import LogisticRegression\n",
    "from pyspark.ml.evaluation import BinaryClassificationEvaluator\n",
    "from pyspark.ml.classification import RandomForestClassifier\n",
    "from pyspark.ml.classification import GBTClassifier\n",
    "from pyspark.ml.classification import DecisionTreeClassifier\n",
    "from pyspark.sql import SQLContext\n"
   ]
  },
  {
   "cell_type": "code",
   "execution_count": 133,
   "metadata": {},
   "outputs": [],
   "source": [
    "sqlContext = SQLContext(spark)"
   ]
  },
  {
   "cell_type": "code",
   "execution_count": 122,
   "metadata": {},
   "outputs": [],
   "source": [
    "spark = SparkSession.builder.master(\"local[*]\").appName(\"Project\").getOrCreate()    \n",
    "spark.conf.set(\"spark.executor.memory\", '32g')\n",
    "spark.conf.set(\"spark.driver.memory\",'32g')"
   ]
  },
  {
   "cell_type": "code",
   "execution_count": 61,
   "metadata": {},
   "outputs": [],
   "source": [
    "CreditDefaultData = spark.read.csv(\"default of credit card clients1.csv\",header=True,sep=\",\",inferSchema=True)"
   ]
  },
  {
   "cell_type": "code",
   "execution_count": 62,
   "metadata": {},
   "outputs": [
    {
     "name": "stdout",
     "output_type": "stream",
     "text": [
      "root\n",
      " |-- _c0: string (nullable = true)\n",
      " |-- X1: string (nullable = true)\n",
      " |-- X2: string (nullable = true)\n",
      " |-- X3: string (nullable = true)\n",
      " |-- X4: string (nullable = true)\n",
      " |-- X5: string (nullable = true)\n",
      " |-- X6: string (nullable = true)\n",
      " |-- X7: string (nullable = true)\n",
      " |-- X8: string (nullable = true)\n",
      " |-- X9: string (nullable = true)\n",
      " |-- X10: string (nullable = true)\n",
      " |-- X11: string (nullable = true)\n",
      " |-- X12: string (nullable = true)\n",
      " |-- X13: string (nullable = true)\n",
      " |-- X14: string (nullable = true)\n",
      " |-- X15: string (nullable = true)\n",
      " |-- X16: string (nullable = true)\n",
      " |-- X17: string (nullable = true)\n",
      " |-- X18: string (nullable = true)\n",
      " |-- X19: string (nullable = true)\n",
      " |-- X20: string (nullable = true)\n",
      " |-- X21: string (nullable = true)\n",
      " |-- X22: string (nullable = true)\n",
      " |-- X23: string (nullable = true)\n",
      " |-- Y: string (nullable = true)\n",
      "\n"
     ]
    }
   ],
   "source": [
    "CreditDefaultData.printSchema()"
   ]
  },
  {
   "cell_type": "code",
   "execution_count": 63,
   "metadata": {},
   "outputs": [
    {
     "name": "stdout",
     "output_type": "stream",
     "text": [
      "== Physical Plan ==\n",
      "*(1) FileScan csv [_c0#10497,X1#10498,X2#10499,X3#10500,X4#10501,X5#10502,X6#10503,X7#10504,X8#10505,X9#10506,X10#10507,X11#10508,X12#10509,X13#10510,X14#10511,X15#10512,X16#10513,X17#10514,X18#10515,X19#10516,X20#10517,X21#10518,X22#10519,X23#10520,Y#10521] Batched: false, Format: CSV, Location: InMemoryFileIndex[file:/C:/Users/GELab/Documents/Development/ML With Spark/Project/default of cre..., PartitionFilters: [], PushedFilters: [], ReadSchema: struct<_c0:string,X1:string,X2:string,X3:string,X4:string,X5:string,X6:string,X7:string,X8:string...\n"
     ]
    }
   ],
   "source": [
    "CreditDefaultData.explain()"
   ]
  },
  {
   "cell_type": "code",
   "execution_count": 64,
   "metadata": {},
   "outputs": [
    {
     "name": "stdout",
     "output_type": "stream",
     "text": [
      "+---+---------+---+---------+--------+---+-----+-----+-----+-----+-----+-----+---------+---------+---------+---------+---------+---------+--------+--------+--------+--------+--------+--------+--------------------+\n",
      "|_c0|       X1| X2|       X3|      X4| X5|   X6|   X7|   X8|   X9|  X10|  X11|      X12|      X13|      X14|      X15|      X16|      X17|     X18|     X19|     X20|     X21|     X22|     X23|                   Y|\n",
      "+---+---------+---+---------+--------+---+-----+-----+-----+-----+-----+-----+---------+---------+---------+---------+---------+---------+--------+--------+--------+--------+--------+--------+--------------------+\n",
      "| ID|LIMIT_BAL|SEX|EDUCATION|MARRIAGE|AGE|PAY_0|PAY_2|PAY_3|PAY_4|PAY_5|PAY_6|BILL_AMT1|BILL_AMT2|BILL_AMT3|BILL_AMT4|BILL_AMT5|BILL_AMT6|PAY_AMT1|PAY_AMT2|PAY_AMT3|PAY_AMT4|PAY_AMT5|PAY_AMT6|default payment n...|\n",
      "|  1|    20000|  2|        2|       1| 24|    2|    2|   -1|   -1|   -2|   -2|     3913|     3102|      689|        0|        0|        0|       0|     689|       0|       0|       0|       0|                   1|\n",
      "|  2|   120000|  2|        2|       2| 26|   -1|    2|    0|    0|    0|    2|     2682|     1725|     2682|     3272|     3455|     3261|       0|    1000|    1000|    1000|       0|    2000|                   1|\n",
      "|  3|    90000|  2|        2|       2| 34|    0|    0|    0|    0|    0|    0|    29239|    14027|    13559|    14331|    14948|    15549|    1518|    1500|    1000|    1000|    1000|    5000|                   0|\n",
      "|  4|    50000|  2|        2|       1| 37|    0|    0|    0|    0|    0|    0|    46990|    48233|    49291|    28314|    28959|    29547|    2000|    2019|    1200|    1100|    1069|    1000|                   0|\n",
      "+---+---------+---+---------+--------+---+-----+-----+-----+-----+-----+-----+---------+---------+---------+---------+---------+---------+--------+--------+--------+--------+--------+--------+--------------------+\n",
      "only showing top 5 rows\n",
      "\n"
     ]
    }
   ],
   "source": [
    "CreditDefaultData.show(5)"
   ]
  },
  {
   "cell_type": "markdown",
   "metadata": {},
   "source": [
    "Above we observe that the 1st row is the actual header"
   ]
  },
  {
   "cell_type": "markdown",
   "metadata": {},
   "source": [
    "#### Converting to pandas dataframe to set the first row as the header"
   ]
  },
  {
   "cell_type": "code",
   "execution_count": 65,
   "metadata": {},
   "outputs": [],
   "source": [
    "CreditDefualtPdDf = CreditDefaultData.toPandas()"
   ]
  },
  {
   "cell_type": "code",
   "execution_count": 66,
   "metadata": {},
   "outputs": [],
   "source": [
    "CreditDefualtPdDf.columns = CreditDefualtPdDf.loc[0,:]\n",
    "CreditDefualtPdDf = CreditDefualtPdDf.loc[1:,:]"
   ]
  },
  {
   "cell_type": "code",
   "execution_count": 67,
   "metadata": {},
   "outputs": [
    {
     "data": {
      "text/html": [
       "<div>\n",
       "<style scoped>\n",
       "    .dataframe tbody tr th:only-of-type {\n",
       "        vertical-align: middle;\n",
       "    }\n",
       "\n",
       "    .dataframe tbody tr th {\n",
       "        vertical-align: top;\n",
       "    }\n",
       "\n",
       "    .dataframe thead th {\n",
       "        text-align: right;\n",
       "    }\n",
       "</style>\n",
       "<table border=\"1\" class=\"dataframe\">\n",
       "  <thead>\n",
       "    <tr style=\"text-align: right;\">\n",
       "      <th></th>\n",
       "      <th>ID</th>\n",
       "      <th>LIMIT_BAL</th>\n",
       "      <th>SEX</th>\n",
       "      <th>EDUCATION</th>\n",
       "      <th>MARRIAGE</th>\n",
       "      <th>AGE</th>\n",
       "      <th>PAY_0</th>\n",
       "      <th>PAY_2</th>\n",
       "      <th>PAY_3</th>\n",
       "      <th>PAY_4</th>\n",
       "      <th>...</th>\n",
       "      <th>BILL_AMT4</th>\n",
       "      <th>BILL_AMT5</th>\n",
       "      <th>BILL_AMT6</th>\n",
       "      <th>PAY_AMT1</th>\n",
       "      <th>PAY_AMT2</th>\n",
       "      <th>PAY_AMT3</th>\n",
       "      <th>PAY_AMT4</th>\n",
       "      <th>PAY_AMT5</th>\n",
       "      <th>PAY_AMT6</th>\n",
       "      <th>default payment next month</th>\n",
       "    </tr>\n",
       "  </thead>\n",
       "  <tbody>\n",
       "    <tr>\n",
       "      <th>1</th>\n",
       "      <td>1</td>\n",
       "      <td>20000</td>\n",
       "      <td>2</td>\n",
       "      <td>2</td>\n",
       "      <td>1</td>\n",
       "      <td>24</td>\n",
       "      <td>2</td>\n",
       "      <td>2</td>\n",
       "      <td>-1</td>\n",
       "      <td>-1</td>\n",
       "      <td>...</td>\n",
       "      <td>0</td>\n",
       "      <td>0</td>\n",
       "      <td>0</td>\n",
       "      <td>0</td>\n",
       "      <td>689</td>\n",
       "      <td>0</td>\n",
       "      <td>0</td>\n",
       "      <td>0</td>\n",
       "      <td>0</td>\n",
       "      <td>1</td>\n",
       "    </tr>\n",
       "    <tr>\n",
       "      <th>2</th>\n",
       "      <td>2</td>\n",
       "      <td>120000</td>\n",
       "      <td>2</td>\n",
       "      <td>2</td>\n",
       "      <td>2</td>\n",
       "      <td>26</td>\n",
       "      <td>-1</td>\n",
       "      <td>2</td>\n",
       "      <td>0</td>\n",
       "      <td>0</td>\n",
       "      <td>...</td>\n",
       "      <td>3272</td>\n",
       "      <td>3455</td>\n",
       "      <td>3261</td>\n",
       "      <td>0</td>\n",
       "      <td>1000</td>\n",
       "      <td>1000</td>\n",
       "      <td>1000</td>\n",
       "      <td>0</td>\n",
       "      <td>2000</td>\n",
       "      <td>1</td>\n",
       "    </tr>\n",
       "    <tr>\n",
       "      <th>3</th>\n",
       "      <td>3</td>\n",
       "      <td>90000</td>\n",
       "      <td>2</td>\n",
       "      <td>2</td>\n",
       "      <td>2</td>\n",
       "      <td>34</td>\n",
       "      <td>0</td>\n",
       "      <td>0</td>\n",
       "      <td>0</td>\n",
       "      <td>0</td>\n",
       "      <td>...</td>\n",
       "      <td>14331</td>\n",
       "      <td>14948</td>\n",
       "      <td>15549</td>\n",
       "      <td>1518</td>\n",
       "      <td>1500</td>\n",
       "      <td>1000</td>\n",
       "      <td>1000</td>\n",
       "      <td>1000</td>\n",
       "      <td>5000</td>\n",
       "      <td>0</td>\n",
       "    </tr>\n",
       "    <tr>\n",
       "      <th>4</th>\n",
       "      <td>4</td>\n",
       "      <td>50000</td>\n",
       "      <td>2</td>\n",
       "      <td>2</td>\n",
       "      <td>1</td>\n",
       "      <td>37</td>\n",
       "      <td>0</td>\n",
       "      <td>0</td>\n",
       "      <td>0</td>\n",
       "      <td>0</td>\n",
       "      <td>...</td>\n",
       "      <td>28314</td>\n",
       "      <td>28959</td>\n",
       "      <td>29547</td>\n",
       "      <td>2000</td>\n",
       "      <td>2019</td>\n",
       "      <td>1200</td>\n",
       "      <td>1100</td>\n",
       "      <td>1069</td>\n",
       "      <td>1000</td>\n",
       "      <td>0</td>\n",
       "    </tr>\n",
       "    <tr>\n",
       "      <th>5</th>\n",
       "      <td>5</td>\n",
       "      <td>50000</td>\n",
       "      <td>1</td>\n",
       "      <td>2</td>\n",
       "      <td>1</td>\n",
       "      <td>57</td>\n",
       "      <td>-1</td>\n",
       "      <td>0</td>\n",
       "      <td>-1</td>\n",
       "      <td>0</td>\n",
       "      <td>...</td>\n",
       "      <td>20940</td>\n",
       "      <td>19146</td>\n",
       "      <td>19131</td>\n",
       "      <td>2000</td>\n",
       "      <td>36681</td>\n",
       "      <td>10000</td>\n",
       "      <td>9000</td>\n",
       "      <td>689</td>\n",
       "      <td>679</td>\n",
       "      <td>0</td>\n",
       "    </tr>\n",
       "  </tbody>\n",
       "</table>\n",
       "<p>5 rows × 25 columns</p>\n",
       "</div>"
      ],
      "text/plain": [
       "0 ID LIMIT_BAL SEX EDUCATION MARRIAGE AGE PAY_0 PAY_2 PAY_3 PAY_4  ...  \\\n",
       "1  1     20000   2         2        1  24     2     2    -1    -1  ...   \n",
       "2  2    120000   2         2        2  26    -1     2     0     0  ...   \n",
       "3  3     90000   2         2        2  34     0     0     0     0  ...   \n",
       "4  4     50000   2         2        1  37     0     0     0     0  ...   \n",
       "5  5     50000   1         2        1  57    -1     0    -1     0  ...   \n",
       "\n",
       "0 BILL_AMT4 BILL_AMT5 BILL_AMT6 PAY_AMT1 PAY_AMT2 PAY_AMT3 PAY_AMT4 PAY_AMT5  \\\n",
       "1         0         0         0        0      689        0        0        0   \n",
       "2      3272      3455      3261        0     1000     1000     1000        0   \n",
       "3     14331     14948     15549     1518     1500     1000     1000     1000   \n",
       "4     28314     28959     29547     2000     2019     1200     1100     1069   \n",
       "5     20940     19146     19131     2000    36681    10000     9000      689   \n",
       "\n",
       "0 PAY_AMT6 default payment next month  \n",
       "1        0                          1  \n",
       "2     2000                          1  \n",
       "3     5000                          0  \n",
       "4     1000                          0  \n",
       "5      679                          0  \n",
       "\n",
       "[5 rows x 25 columns]"
      ]
     },
     "execution_count": 67,
     "metadata": {},
     "output_type": "execute_result"
    }
   ],
   "source": [
    "CreditDefualtPdDf.head()"
   ]
  },
  {
   "cell_type": "markdown",
   "metadata": {},
   "source": [
    "#### Converting back to spark dataframe"
   ]
  },
  {
   "cell_type": "code",
   "execution_count": 68,
   "metadata": {},
   "outputs": [],
   "source": [
    "CreditDefaultData = spark.createDataFrame(CreditDefualtPdDf)"
   ]
  },
  {
   "cell_type": "code",
   "execution_count": 69,
   "metadata": {},
   "outputs": [
    {
     "name": "stdout",
     "output_type": "stream",
     "text": [
      "+---+---------+---+---------+--------+---+-----+-----+-----+-----+-----+-----+---------+---------+---------+---------+---------+---------+--------+--------+--------+--------+--------+--------+--------------------------+\n",
      "| ID|LIMIT_BAL|SEX|EDUCATION|MARRIAGE|AGE|PAY_0|PAY_2|PAY_3|PAY_4|PAY_5|PAY_6|BILL_AMT1|BILL_AMT2|BILL_AMT3|BILL_AMT4|BILL_AMT5|BILL_AMT6|PAY_AMT1|PAY_AMT2|PAY_AMT3|PAY_AMT4|PAY_AMT5|PAY_AMT6|default payment next month|\n",
      "+---+---------+---+---------+--------+---+-----+-----+-----+-----+-----+-----+---------+---------+---------+---------+---------+---------+--------+--------+--------+--------+--------+--------+--------------------------+\n",
      "|  1|    20000|  2|        2|       1| 24|    2|    2|   -1|   -1|   -2|   -2|     3913|     3102|      689|        0|        0|        0|       0|     689|       0|       0|       0|       0|                         1|\n",
      "|  2|   120000|  2|        2|       2| 26|   -1|    2|    0|    0|    0|    2|     2682|     1725|     2682|     3272|     3455|     3261|       0|    1000|    1000|    1000|       0|    2000|                         1|\n",
      "|  3|    90000|  2|        2|       2| 34|    0|    0|    0|    0|    0|    0|    29239|    14027|    13559|    14331|    14948|    15549|    1518|    1500|    1000|    1000|    1000|    5000|                         0|\n",
      "|  4|    50000|  2|        2|       1| 37|    0|    0|    0|    0|    0|    0|    46990|    48233|    49291|    28314|    28959|    29547|    2000|    2019|    1200|    1100|    1069|    1000|                         0|\n",
      "|  5|    50000|  1|        2|       1| 57|   -1|    0|   -1|    0|    0|    0|     8617|     5670|    35835|    20940|    19146|    19131|    2000|   36681|   10000|    9000|     689|     679|                         0|\n",
      "+---+---------+---+---------+--------+---+-----+-----+-----+-----+-----+-----+---------+---------+---------+---------+---------+---------+--------+--------+--------+--------+--------+--------+--------------------------+\n",
      "only showing top 5 rows\n",
      "\n"
     ]
    }
   ],
   "source": [
    "CreditDefaultData.show(5)"
   ]
  },
  {
   "cell_type": "markdown",
   "metadata": {},
   "source": [
    "#### Checking for columns having na values"
   ]
  },
  {
   "cell_type": "code",
   "execution_count": 70,
   "metadata": {},
   "outputs": [
    {
     "data": {
      "text/plain": [
       "ID                            0\n",
       "LIMIT_BAL                     0\n",
       "SEX                           0\n",
       "EDUCATION                     0\n",
       "MARRIAGE                      0\n",
       "AGE                           0\n",
       "PAY_0                         0\n",
       "PAY_2                         0\n",
       "PAY_3                         0\n",
       "PAY_4                         0\n",
       "PAY_5                         0\n",
       "PAY_6                         0\n",
       "BILL_AMT1                     0\n",
       "BILL_AMT2                     0\n",
       "BILL_AMT3                     0\n",
       "BILL_AMT4                     0\n",
       "BILL_AMT5                     0\n",
       "BILL_AMT6                     0\n",
       "PAY_AMT1                      0\n",
       "PAY_AMT2                      0\n",
       "PAY_AMT3                      0\n",
       "PAY_AMT4                      0\n",
       "PAY_AMT5                      0\n",
       "PAY_AMT6                      0\n",
       "default payment next month    0\n",
       "dtype: int64"
      ]
     },
     "execution_count": 70,
     "metadata": {},
     "output_type": "execute_result"
    }
   ],
   "source": [
    "CreditDefaultData.toPandas().isna().sum()"
   ]
  },
  {
   "cell_type": "markdown",
   "metadata": {},
   "source": [
    "### Statistics of the data"
   ]
  },
  {
   "cell_type": "code",
   "execution_count": 71,
   "metadata": {},
   "outputs": [
    {
     "data": {
      "text/html": [
       "<div>\n",
       "<style scoped>\n",
       "    .dataframe tbody tr th:only-of-type {\n",
       "        vertical-align: middle;\n",
       "    }\n",
       "\n",
       "    .dataframe tbody tr th {\n",
       "        vertical-align: top;\n",
       "    }\n",
       "\n",
       "    .dataframe thead th {\n",
       "        text-align: right;\n",
       "    }\n",
       "</style>\n",
       "<table border=\"1\" class=\"dataframe\">\n",
       "  <thead>\n",
       "    <tr style=\"text-align: right;\">\n",
       "      <th></th>\n",
       "      <th>0</th>\n",
       "      <th>1</th>\n",
       "      <th>2</th>\n",
       "      <th>3</th>\n",
       "      <th>4</th>\n",
       "    </tr>\n",
       "  </thead>\n",
       "  <tbody>\n",
       "    <tr>\n",
       "      <th>summary</th>\n",
       "      <td>count</td>\n",
       "      <td>mean</td>\n",
       "      <td>stddev</td>\n",
       "      <td>min</td>\n",
       "      <td>max</td>\n",
       "    </tr>\n",
       "    <tr>\n",
       "      <th>ID</th>\n",
       "      <td>30000</td>\n",
       "      <td>15000.5</td>\n",
       "      <td>8660.398374208891</td>\n",
       "      <td>1</td>\n",
       "      <td>9999</td>\n",
       "    </tr>\n",
       "    <tr>\n",
       "      <th>LIMIT_BAL</th>\n",
       "      <td>30000</td>\n",
       "      <td>167484.32266666667</td>\n",
       "      <td>129747.66156720239</td>\n",
       "      <td>10000</td>\n",
       "      <td>90000</td>\n",
       "    </tr>\n",
       "    <tr>\n",
       "      <th>SEX</th>\n",
       "      <td>30000</td>\n",
       "      <td>1.6037333333333332</td>\n",
       "      <td>0.4891291960902606</td>\n",
       "      <td>1</td>\n",
       "      <td>2</td>\n",
       "    </tr>\n",
       "    <tr>\n",
       "      <th>EDUCATION</th>\n",
       "      <td>30000</td>\n",
       "      <td>1.8531333333333333</td>\n",
       "      <td>0.7903486597207294</td>\n",
       "      <td>0</td>\n",
       "      <td>6</td>\n",
       "    </tr>\n",
       "    <tr>\n",
       "      <th>MARRIAGE</th>\n",
       "      <td>30000</td>\n",
       "      <td>1.5518666666666667</td>\n",
       "      <td>0.5219696006132485</td>\n",
       "      <td>0</td>\n",
       "      <td>3</td>\n",
       "    </tr>\n",
       "    <tr>\n",
       "      <th>AGE</th>\n",
       "      <td>30000</td>\n",
       "      <td>35.4855</td>\n",
       "      <td>9.21790406809019</td>\n",
       "      <td>21</td>\n",
       "      <td>79</td>\n",
       "    </tr>\n",
       "    <tr>\n",
       "      <th>PAY_0</th>\n",
       "      <td>30000</td>\n",
       "      <td>-0.0167</td>\n",
       "      <td>1.1238015279973346</td>\n",
       "      <td>-1</td>\n",
       "      <td>8</td>\n",
       "    </tr>\n",
       "    <tr>\n",
       "      <th>PAY_2</th>\n",
       "      <td>30000</td>\n",
       "      <td>-0.13376666666666667</td>\n",
       "      <td>1.1971859730345529</td>\n",
       "      <td>-1</td>\n",
       "      <td>8</td>\n",
       "    </tr>\n",
       "    <tr>\n",
       "      <th>PAY_3</th>\n",
       "      <td>30000</td>\n",
       "      <td>-0.1662</td>\n",
       "      <td>1.1968675684465735</td>\n",
       "      <td>-1</td>\n",
       "      <td>8</td>\n",
       "    </tr>\n",
       "    <tr>\n",
       "      <th>PAY_4</th>\n",
       "      <td>30000</td>\n",
       "      <td>-0.22066666666666668</td>\n",
       "      <td>1.1691386224023377</td>\n",
       "      <td>-1</td>\n",
       "      <td>8</td>\n",
       "    </tr>\n",
       "    <tr>\n",
       "      <th>PAY_5</th>\n",
       "      <td>30000</td>\n",
       "      <td>-0.2662</td>\n",
       "      <td>1.1331874060027485</td>\n",
       "      <td>-1</td>\n",
       "      <td>8</td>\n",
       "    </tr>\n",
       "    <tr>\n",
       "      <th>PAY_6</th>\n",
       "      <td>30000</td>\n",
       "      <td>-0.2911</td>\n",
       "      <td>1.1499876256079022</td>\n",
       "      <td>-1</td>\n",
       "      <td>8</td>\n",
       "    </tr>\n",
       "    <tr>\n",
       "      <th>BILL_AMT1</th>\n",
       "      <td>30000</td>\n",
       "      <td>51223.3309</td>\n",
       "      <td>73635.86057552954</td>\n",
       "      <td>-1</td>\n",
       "      <td>9999</td>\n",
       "    </tr>\n",
       "    <tr>\n",
       "      <th>BILL_AMT2</th>\n",
       "      <td>30000</td>\n",
       "      <td>49179.07516666667</td>\n",
       "      <td>71173.76878252836</td>\n",
       "      <td>-1</td>\n",
       "      <td>99998</td>\n",
       "    </tr>\n",
       "    <tr>\n",
       "      <th>BILL_AMT3</th>\n",
       "      <td>30000</td>\n",
       "      <td>47013.1548</td>\n",
       "      <td>69349.38742703685</td>\n",
       "      <td>-1</td>\n",
       "      <td>99983</td>\n",
       "    </tr>\n",
       "    <tr>\n",
       "      <th>BILL_AMT4</th>\n",
       "      <td>30000</td>\n",
       "      <td>43262.94896666666</td>\n",
       "      <td>64332.856133916335</td>\n",
       "      <td>-1</td>\n",
       "      <td>9999</td>\n",
       "    </tr>\n",
       "    <tr>\n",
       "      <th>BILL_AMT5</th>\n",
       "      <td>30000</td>\n",
       "      <td>40311.40096666667</td>\n",
       "      <td>60797.15577026485</td>\n",
       "      <td>-1</td>\n",
       "      <td>9999</td>\n",
       "    </tr>\n",
       "    <tr>\n",
       "      <th>BILL_AMT6</th>\n",
       "      <td>30000</td>\n",
       "      <td>38871.7604</td>\n",
       "      <td>59554.10753674574</td>\n",
       "      <td>-1</td>\n",
       "      <td>99985</td>\n",
       "    </tr>\n",
       "    <tr>\n",
       "      <th>PAY_AMT1</th>\n",
       "      <td>30000</td>\n",
       "      <td>5663.5805</td>\n",
       "      <td>16563.280354025774</td>\n",
       "      <td>0</td>\n",
       "      <td>999</td>\n",
       "    </tr>\n",
       "    <tr>\n",
       "      <th>PAY_AMT2</th>\n",
       "      <td>30000</td>\n",
       "      <td>5921.1635</td>\n",
       "      <td>23040.87040205723</td>\n",
       "      <td>0</td>\n",
       "      <td>9996</td>\n",
       "    </tr>\n",
       "    <tr>\n",
       "      <th>PAY_AMT3</th>\n",
       "      <td>30000</td>\n",
       "      <td>5225.6815</td>\n",
       "      <td>17606.961469803104</td>\n",
       "      <td>0</td>\n",
       "      <td>9995</td>\n",
       "    </tr>\n",
       "    <tr>\n",
       "      <th>PAY_AMT4</th>\n",
       "      <td>30000</td>\n",
       "      <td>4826.076866666666</td>\n",
       "      <td>15666.159744032</td>\n",
       "      <td>0</td>\n",
       "      <td>999</td>\n",
       "    </tr>\n",
       "    <tr>\n",
       "      <th>PAY_AMT5</th>\n",
       "      <td>30000</td>\n",
       "      <td>4799.387633333334</td>\n",
       "      <td>15278.305679144783</td>\n",
       "      <td>0</td>\n",
       "      <td>9993</td>\n",
       "    </tr>\n",
       "    <tr>\n",
       "      <th>PAY_AMT6</th>\n",
       "      <td>30000</td>\n",
       "      <td>5215.502566666667</td>\n",
       "      <td>17777.465775435303</td>\n",
       "      <td>0</td>\n",
       "      <td>99983</td>\n",
       "    </tr>\n",
       "    <tr>\n",
       "      <th>default payment next month</th>\n",
       "      <td>30000</td>\n",
       "      <td>0.2212</td>\n",
       "      <td>0.4150618056909332</td>\n",
       "      <td>0</td>\n",
       "      <td>1</td>\n",
       "    </tr>\n",
       "  </tbody>\n",
       "</table>\n",
       "</div>"
      ],
      "text/plain": [
       "                                0                     1                   2  \\\n",
       "summary                     count                  mean              stddev   \n",
       "ID                          30000               15000.5   8660.398374208891   \n",
       "LIMIT_BAL                   30000    167484.32266666667  129747.66156720239   \n",
       "SEX                         30000    1.6037333333333332  0.4891291960902606   \n",
       "EDUCATION                   30000    1.8531333333333333  0.7903486597207294   \n",
       "MARRIAGE                    30000    1.5518666666666667  0.5219696006132485   \n",
       "AGE                         30000               35.4855    9.21790406809019   \n",
       "PAY_0                       30000               -0.0167  1.1238015279973346   \n",
       "PAY_2                       30000  -0.13376666666666667  1.1971859730345529   \n",
       "PAY_3                       30000               -0.1662  1.1968675684465735   \n",
       "PAY_4                       30000  -0.22066666666666668  1.1691386224023377   \n",
       "PAY_5                       30000               -0.2662  1.1331874060027485   \n",
       "PAY_6                       30000               -0.2911  1.1499876256079022   \n",
       "BILL_AMT1                   30000            51223.3309   73635.86057552954   \n",
       "BILL_AMT2                   30000     49179.07516666667   71173.76878252836   \n",
       "BILL_AMT3                   30000            47013.1548   69349.38742703685   \n",
       "BILL_AMT4                   30000     43262.94896666666  64332.856133916335   \n",
       "BILL_AMT5                   30000     40311.40096666667   60797.15577026485   \n",
       "BILL_AMT6                   30000            38871.7604   59554.10753674574   \n",
       "PAY_AMT1                    30000             5663.5805  16563.280354025774   \n",
       "PAY_AMT2                    30000             5921.1635   23040.87040205723   \n",
       "PAY_AMT3                    30000             5225.6815  17606.961469803104   \n",
       "PAY_AMT4                    30000     4826.076866666666     15666.159744032   \n",
       "PAY_AMT5                    30000     4799.387633333334  15278.305679144783   \n",
       "PAY_AMT6                    30000     5215.502566666667  17777.465775435303   \n",
       "default payment next month  30000                0.2212  0.4150618056909332   \n",
       "\n",
       "                                3      4  \n",
       "summary                       min    max  \n",
       "ID                              1   9999  \n",
       "LIMIT_BAL                   10000  90000  \n",
       "SEX                             1      2  \n",
       "EDUCATION                       0      6  \n",
       "MARRIAGE                        0      3  \n",
       "AGE                            21     79  \n",
       "PAY_0                          -1      8  \n",
       "PAY_2                          -1      8  \n",
       "PAY_3                          -1      8  \n",
       "PAY_4                          -1      8  \n",
       "PAY_5                          -1      8  \n",
       "PAY_6                          -1      8  \n",
       "BILL_AMT1                      -1   9999  \n",
       "BILL_AMT2                      -1  99998  \n",
       "BILL_AMT3                      -1  99983  \n",
       "BILL_AMT4                      -1   9999  \n",
       "BILL_AMT5                      -1   9999  \n",
       "BILL_AMT6                      -1  99985  \n",
       "PAY_AMT1                        0    999  \n",
       "PAY_AMT2                        0   9996  \n",
       "PAY_AMT3                        0   9995  \n",
       "PAY_AMT4                        0    999  \n",
       "PAY_AMT5                        0   9993  \n",
       "PAY_AMT6                        0  99983  \n",
       "default payment next month      0      1  "
      ]
     },
     "execution_count": 71,
     "metadata": {},
     "output_type": "execute_result"
    }
   ],
   "source": [
    "CreditDefaultData.describe().toPandas().transpose()"
   ]
  },
  {
   "cell_type": "code",
   "execution_count": 72,
   "metadata": {},
   "outputs": [
    {
     "data": {
      "text/plain": [
       "['ID',\n",
       " 'LIMIT_BAL',\n",
       " 'SEX',\n",
       " 'EDUCATION',\n",
       " 'MARRIAGE',\n",
       " 'AGE',\n",
       " 'PAY_0',\n",
       " 'PAY_2',\n",
       " 'PAY_3',\n",
       " 'PAY_4',\n",
       " 'PAY_5',\n",
       " 'PAY_6',\n",
       " 'BILL_AMT1',\n",
       " 'BILL_AMT2',\n",
       " 'BILL_AMT3',\n",
       " 'BILL_AMT4',\n",
       " 'BILL_AMT5',\n",
       " 'BILL_AMT6',\n",
       " 'PAY_AMT1',\n",
       " 'PAY_AMT2',\n",
       " 'PAY_AMT3',\n",
       " 'PAY_AMT4',\n",
       " 'PAY_AMT5',\n",
       " 'PAY_AMT6',\n",
       " 'default payment next month']"
      ]
     },
     "execution_count": 72,
     "metadata": {},
     "output_type": "execute_result"
    }
   ],
   "source": [
    "CreditDefaultData.columns"
   ]
  },
  {
   "cell_type": "markdown",
   "metadata": {},
   "source": [
    "#### Casting all the features to Double and Label to Int"
   ]
  },
  {
   "cell_type": "code",
   "execution_count": 73,
   "metadata": {},
   "outputs": [],
   "source": [
    "AllColumns = CreditDefaultData.columns\n",
    "\n",
    "\n",
    "for colName in AllColumns:\n",
    "    if colName != 'default payment next month':\n",
    "        CreditDefaultData = CreditDefaultData.withColumn(colName, col(colName).cast(\"double\"))\n",
    "    if colName == 'default payment next month':\n",
    "        CreditDefaultData = CreditDefaultData.withColumn(colName, col(colName).cast(\"int\"))\n",
    "    \n",
    "    "
   ]
  },
  {
   "cell_type": "code",
   "execution_count": 74,
   "metadata": {},
   "outputs": [
    {
     "name": "stdout",
     "output_type": "stream",
     "text": [
      "root\n",
      " |-- ID: double (nullable = true)\n",
      " |-- LIMIT_BAL: double (nullable = true)\n",
      " |-- SEX: double (nullable = true)\n",
      " |-- EDUCATION: double (nullable = true)\n",
      " |-- MARRIAGE: double (nullable = true)\n",
      " |-- AGE: double (nullable = true)\n",
      " |-- PAY_0: double (nullable = true)\n",
      " |-- PAY_2: double (nullable = true)\n",
      " |-- PAY_3: double (nullable = true)\n",
      " |-- PAY_4: double (nullable = true)\n",
      " |-- PAY_5: double (nullable = true)\n",
      " |-- PAY_6: double (nullable = true)\n",
      " |-- BILL_AMT1: double (nullable = true)\n",
      " |-- BILL_AMT2: double (nullable = true)\n",
      " |-- BILL_AMT3: double (nullable = true)\n",
      " |-- BILL_AMT4: double (nullable = true)\n",
      " |-- BILL_AMT5: double (nullable = true)\n",
      " |-- BILL_AMT6: double (nullable = true)\n",
      " |-- PAY_AMT1: double (nullable = true)\n",
      " |-- PAY_AMT2: double (nullable = true)\n",
      " |-- PAY_AMT3: double (nullable = true)\n",
      " |-- PAY_AMT4: double (nullable = true)\n",
      " |-- PAY_AMT5: double (nullable = true)\n",
      " |-- PAY_AMT6: double (nullable = true)\n",
      " |-- default payment next month: integer (nullable = true)\n",
      "\n"
     ]
    }
   ],
   "source": [
    "CreditDefaultData.printSchema()"
   ]
  },
  {
   "cell_type": "code",
   "execution_count": 75,
   "metadata": {},
   "outputs": [
    {
     "data": {
      "text/plain": [
       "ID                            0\n",
       "LIMIT_BAL                     0\n",
       "SEX                           0\n",
       "EDUCATION                     0\n",
       "MARRIAGE                      0\n",
       "AGE                           0\n",
       "PAY_0                         0\n",
       "PAY_2                         0\n",
       "PAY_3                         0\n",
       "PAY_4                         0\n",
       "PAY_5                         0\n",
       "PAY_6                         0\n",
       "BILL_AMT1                     0\n",
       "BILL_AMT2                     0\n",
       "BILL_AMT3                     0\n",
       "BILL_AMT4                     0\n",
       "BILL_AMT5                     0\n",
       "BILL_AMT6                     0\n",
       "PAY_AMT1                      0\n",
       "PAY_AMT2                      0\n",
       "PAY_AMT3                      0\n",
       "PAY_AMT4                      0\n",
       "PAY_AMT5                      0\n",
       "PAY_AMT6                      0\n",
       "default payment next month    0\n",
       "dtype: int64"
      ]
     },
     "execution_count": 75,
     "metadata": {},
     "output_type": "execute_result"
    }
   ],
   "source": [
    "CreditDefaultData.toPandas().isna().sum()"
   ]
  },
  {
   "cell_type": "markdown",
   "metadata": {},
   "source": [
    "##### Vecotr assembler"
   ]
  },
  {
   "cell_type": "code",
   "execution_count": 106,
   "metadata": {},
   "outputs": [],
   "source": [
    "# encoder = OneHotEncoderEstimator(inputCols=inputs, outputCols=[\"categoryVec1\", \"categoryVec2\"])\n",
    "FeatureCols = AllColumns[1:-1] ## removing ID col and default payment next month\n",
    "\n",
    "vectorAssembler = VectorAssembler(inputCols=FeatureCols, outputCol=\"features\")\n",
    "# .transform(CreditDefaultData).select('features','default payment next month')\n",
    "# featureIndexer = VectorIndexer(inputCol=\"features\", outputCol=\"indexedFeatures\", maxCategories=4).fit(CreditDefaultDataWithFeatures)"
   ]
  },
  {
   "cell_type": "markdown",
   "metadata": {},
   "source": [
    "##### Feature Indexer"
   ]
  },
  {
   "cell_type": "code",
   "execution_count": 107,
   "metadata": {},
   "outputs": [],
   "source": [
    "featureIndexer = VectorIndexer(inputCol=\"features\", outputCol=\"indexedFeatures\", maxCategories=4)\n",
    "stdScaler = StandardScaler(inputCol=\"indexedFeatures\", outputCol=\"features_scaled\")"
   ]
  },
  {
   "cell_type": "markdown",
   "metadata": {},
   "source": [
    "### Pipeline"
   ]
  },
  {
   "cell_type": "code",
   "execution_count": 110,
   "metadata": {},
   "outputs": [],
   "source": [
    "pipeline = Pipeline(stages=[vectorAssembler, featureIndexer,stdScaler])\n",
    "pipelineModel = pipeline.fit(CreditDefaultData)"
   ]
  },
  {
   "cell_type": "code",
   "execution_count": 112,
   "metadata": {},
   "outputs": [],
   "source": [
    "DataForTrain = pipelineModel.transform(CreditDefaultData).select('features_scaled','default payment next month')"
   ]
  },
  {
   "cell_type": "code",
   "execution_count": 117,
   "metadata": {},
   "outputs": [],
   "source": [
    "DataForTrain = DataForTrain.withColumnRenamed(\"features_scaled\", \"features\").withColumnRenamed(\"default payment next month\", \"label\")"
   ]
  },
  {
   "cell_type": "code",
   "execution_count": 118,
   "metadata": {},
   "outputs": [
    {
     "name": "stdout",
     "output_type": "stream",
     "text": [
      "+--------------------+-----+\n",
      "|            features|label|\n",
      "+--------------------+-----+\n",
      "|[0.15414535998894...|    1|\n",
      "|[0.92487215993365...|    1|\n",
      "|[0.69365411995024...|    0|\n",
      "|[0.38536339997235...|    0|\n",
      "|[0.38536339997235...|    0|\n",
      "+--------------------+-----+\n",
      "only showing top 5 rows\n",
      "\n"
     ]
    }
   ],
   "source": [
    "DataForTrain.show(5)"
   ]
  },
  {
   "cell_type": "markdown",
   "metadata": {},
   "source": [
    "### Test train split"
   ]
  },
  {
   "cell_type": "code",
   "execution_count": 120,
   "metadata": {},
   "outputs": [
    {
     "name": "stdout",
     "output_type": "stream",
     "text": [
      "numsaples in train :  20991 numsamples in test :  9009\n"
     ]
    }
   ],
   "source": [
    "train, test = DataForTrain.randomSplit([0.7, 0.3], seed = 21)\n",
    "print('numsaples in train : ',train.count(), 'numsamples in test : ', test.count())\n"
   ]
  },
  {
   "cell_type": "markdown",
   "metadata": {},
   "source": [
    "#####  citation: https://docs.databricks.com/applications/machine-learning/mllib/binary-classification-mllib-pipelines.html\n",
    "https://towardsdatascience.com/machine-learning-with-pyspark-and-mllib-solving-a-binary-classification-problem-96396065d2aa"
   ]
  },
  {
   "cell_type": "markdown",
   "metadata": {},
   "source": [
    "### Logistic Regression"
   ]
  },
  {
   "cell_type": "code",
   "execution_count": 128,
   "metadata": {},
   "outputs": [
    {
     "name": "stdout",
     "output_type": "stream",
     "text": [
      "The accuracy of the model on the test data is: 0.7189469016565526\n"
     ]
    }
   ],
   "source": [
    "LogisticClassifier = LogisticRegression(labelCol=\"label\", featuresCol=\"features\")\n",
    "paramGrid = (ParamGridBuilder()\\\n",
    "             .addGrid(LogisticClassifier.regParam, [0.01, 0.5, 2.0])\\\n",
    "             .build())\n",
    "\n",
    "crossval = CrossValidator(estimator=LogisticClassifier,estimatorParamMaps=paramGrid,numFolds=5,evaluator=BinaryClassificationEvaluator()) \n",
    "LogisticCVModel = crossval.fit(train)\n",
    "predictions = LogisticCVModel.transform(test)\n",
    "\n",
    "print('The area under roc curve (accuracy) of the model on the test data is:', BinaryClassificationEvaluator().evaluate(predictions))"
   ]
  },
  {
   "cell_type": "markdown",
   "metadata": {},
   "source": [
    "#### Logistic model coefficientss are"
   ]
  },
  {
   "cell_type": "code",
   "execution_count": 135,
   "metadata": {},
   "outputs": [
    {
     "name": "stdout",
     "output_type": "stream",
     "text": [
      "+--------------------+\n",
      "|      Feature Weight|\n",
      "+--------------------+\n",
      "|-0.08275633595451475|\n",
      "|-0.05998103517805089|\n",
      "|-0.08397080208921334|\n",
      "|-0.08014552753942009|\n",
      "|  0.0750003175932271|\n",
      "|  0.6156223015516452|\n",
      "| 0.10331212746506263|\n",
      "|  0.0918399231101285|\n",
      "| 0.03862229026650423|\n",
      "| 0.06199392693039379|\n",
      "|-0.00785902846043...|\n",
      "|-0.11826204240651074|\n",
      "|-2.70031027617202...|\n",
      "| 0.00925149497523386|\n",
      "|0.006581679064127118|\n",
      "|0.008717485276893994|\n",
      "|0.001968844795337...|\n",
      "|-0.15113516680086886|\n",
      "|-0.11679192447993436|\n",
      "|-0.05012471620652517|\n",
      "+--------------------+\n",
      "only showing top 20 rows\n",
      "\n"
     ]
    }
   ],
   "source": [
    "weights = LogisticCVModel.bestModel.coefficients\n",
    "weights = [(float(w),) for w in weights]  # convert numpy type to float, and to tuple\n",
    "weightsDF = sqlContext.createDataFrame(weights, [\"Feature Weight\"])\n",
    "weightsDF.show()"
   ]
  },
  {
   "cell_type": "markdown",
   "metadata": {},
   "source": [
    "### Decision Tree"
   ]
  },
  {
   "cell_type": "code",
   "execution_count": 130,
   "metadata": {},
   "outputs": [
    {
     "name": "stdout",
     "output_type": "stream",
     "text": [
      "The accuracy of the model on the test data is: 0.4664263526078152\n"
     ]
    }
   ],
   "source": [
    "DTreeClassifier = DecisionTreeClassifier(labelCol=\"label\", featuresCol=\"features\")\n",
    "paramGrid = (ParamGridBuilder()\n",
    "             .addGrid(DTreeClassifier.maxDepth, [1, 2, 6, 10])\n",
    "             .addGrid(DTreeClassifier.maxBins, [20, 40, 80])\n",
    "             .build())\n",
    "\n",
    "crossval = CrossValidator(estimator=DTreeClassifier,estimatorParamMaps=paramGrid,numFolds=5,evaluator=BinaryClassificationEvaluator()) \n",
    "DTreeCVModel = crossval.fit(train)\n",
    "predictions = DTreeCVModel.transform(test)\n",
    "\n",
    "print('The area under roc curve (accuracy) of the model on the test data is:', BinaryClassificationEvaluator().evaluate(predictions))"
   ]
  },
  {
   "cell_type": "markdown",
   "metadata": {},
   "source": [
    "### Random Forest"
   ]
  },
  {
   "cell_type": "code",
   "execution_count": 137,
   "metadata": {},
   "outputs": [
    {
     "name": "stdout",
     "output_type": "stream",
     "text": [
      "The area under roc curve (accuracy) of the model on the test data is: 0.7756961477172108\n"
     ]
    }
   ],
   "source": [
    "rfClassifier = RandomForestClassifier(featuresCol = 'features', labelCol = 'label')\n",
    "paramGrid = (ParamGridBuilder()\\\n",
    "             .addGrid(rfClassifier.maxDepth, [4, 8])\n",
    "             .addGrid(rfClassifier.maxBins, [30, 60])\n",
    "             .addGrid(rfClassifier.numTrees, [10,15,30])\n",
    "             .build())\n",
    "\n",
    "crossval = CrossValidator(estimator=rfClassifier,estimatorParamMaps=paramGrid,numFolds=5,evaluator=BinaryClassificationEvaluator()) \n",
    "rfCvModel = crossval.fit(train)\n",
    "predictions = rfCvModel.transform(test)\n",
    "print('The area under roc curve (accuracy) of the model on the test data is:', BinaryClassificationEvaluator().evaluate(predictions))"
   ]
  },
  {
   "cell_type": "markdown",
   "metadata": {},
   "source": [
    "### Gradient Boositngs"
   ]
  },
  {
   "cell_type": "code",
   "execution_count": 141,
   "metadata": {},
   "outputs": [
    {
     "name": "stdout",
     "output_type": "stream",
     "text": [
      "The area under roc curve (accuracy) of the model on the test data is: 0.7759575305564212\n"
     ]
    }
   ],
   "source": [
    "bostingClassifier = GBTClassifier(labelCol=\"label\", featuresCol=\"features\", maxIter=20)\n",
    "paramGrid = (ParamGridBuilder()\n",
    "             .addGrid(bostingClassifier.maxDepth, [4, 8])\n",
    "             .addGrid(bostingClassifier.maxBins, [30, 60])\n",
    "             .build())\n",
    "crossval = CrossValidator(estimator=bostingClassifier,estimatorParamMaps=paramGrid,numFolds=5,evaluator=BinaryClassificationEvaluator()) \n",
    "GBcvModel = crossval.fit(train)\n",
    "predictions = GBcvModel.transform(test)\n",
    "print('The area under roc curve (accuracy) of the model on the test data is:', BinaryClassificationEvaluator().evaluate(predictions))"
   ]
  },
  {
   "cell_type": "code",
   "execution_count": null,
   "metadata": {},
   "outputs": [],
   "source": []
  }
 ],
 "metadata": {
  "kernelspec": {
   "display_name": "Python 3",
   "language": "python",
   "name": "python3"
  },
  "language_info": {
   "codemirror_mode": {
    "name": "ipython",
    "version": 3
   },
   "file_extension": ".py",
   "mimetype": "text/x-python",
   "name": "python",
   "nbconvert_exporter": "python",
   "pygments_lexer": "ipython3",
   "version": "3.7.3"
  }
 },
 "nbformat": 4,
 "nbformat_minor": 2
}
