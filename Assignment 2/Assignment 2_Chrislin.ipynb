{
 "cells": [
  {
   "cell_type": "markdown",
   "metadata": {},
   "source": [
    "<h1><center> Assignment 2 - Machine Learning with Spark </center></h1>\n",
    "<h2><center> Chrislin Priscilla </center></h2>\n"
   ]
  },
  {
   "cell_type": "markdown",
   "metadata": {},
   "source": [
    "<h3> Part 1: </h3> Reading comma separated file and loading in to spark dataframe \n",
    "    \n",
    "    "
   ]
  },
  {
   "cell_type": "code",
   "execution_count": 41,
   "metadata": {
    "collapsed": true
   },
   "outputs": [
    {
     "name": "stdout",
     "output_type": "stream",
     "text": [
      "# of rows in data: 515345\n"
     ]
    },
    {
     "data": {
      "text/plain": [
       "[Row(target=2001, features=DenseVector([49.9436, 21.4711, 73.0775, 8.7486, -17.4063, -13.099, -25.012, -12.2326, 7.8309, -2.4678, 3.3214, -2.3152, 10.2056, 611.1091, 951.0896, 698.1143, 408.9848, 383.7091, 326.5151, 238.1133, 251.4241, 187.1735, 100.4265, 179.195, -8.4156, -317.8704, 95.8627, 48.1026, -95.663, -18.0622, 1.9698, 34.4244, 11.7267, 1.3679, 7.7944, -0.3699, -133.6785, -83.2616, -37.2976, 73.0467, -37.3668, -3.1385, -24.2153, -13.2307, 15.9381, -18.6048, 82.1548, 240.5798, -10.2941, 31.5843, -25.3819, -3.9077, 13.2926, 41.5506, -7.2627, -21.0086, 105.5085, 64.2986, 26.0848, -44.5911, -8.3066, 7.9371, -10.7366, -95.4477, -82.0331, -35.5919, 4.6952, 70.9563, 28.0914, 6.0202, -37.1377, -41.1245, -8.4082, 7.1988, -8.6018, -5.9086, -12.3244, 14.6873, -54.3212, 40.1479, 13.0162, -54.4055, 58.9937, 15.3734, 1.1114, -23.0879, 68.408, -1.8222, -27.4635, 2.2633]), features_scaled=DenseVector([8.2312, 0.4163, 2.072, 0.536, -0.7614, -1.0188, -1.7165, -1.536, 0.74, -0.3779, 0.7599, -0.2783, 0.4585, 0.3493, 0.7539, 0.6388, 0.8597, 0.6652, 1.0284, 0.7697, 1.1748, 1.1296, 0.5372, 1.1676, -0.0693, -0.4441, 0.1759, 0.2203, -0.5861, -0.1339, 0.0199, 0.4794, 0.1576, 0.0256, 0.1834, -0.0034, -0.3221, -0.1836, -0.1431, 0.355, -0.3118, -0.0262, -0.3289, -0.3448, 0.3836, -0.3384, 0.1746, 0.9169, -0.0491, 0.2586, -0.2713, -0.0521, 0.1899, 0.4989, -0.1256, -0.0767, 0.3391, 0.241, 0.1543, -0.3095, -0.1397, 0.1614, -0.285, -0.3097, -0.3692, -0.2778, 0.047, 0.608, 0.2641, 0.1636, -0.1476, -0.1795, -0.0513, 0.1137, -0.133, -0.2242, -0.046, 0.1019, -0.2701, 0.3242, 0.4055, -0.3098, 0.4826, 0.1617, 0.0688, -0.2018, 0.3932, -0.1365, -0.148, 0.1025])),\n",
       " Row(target=2001, features=DenseVector([48.7322, 18.4293, 70.3268, 12.9464, -10.3244, -24.8378, 8.7663, -0.9202, 18.7655, 4.5921, 2.2192, 0.3401, 44.39, 2056.9384, 605.407, 457.4118, 777.1535, 415.6488, 746.4778, 366.4532, 317.8295, 273.0792, 141.7592, 317.3527, 19.4827, -65.255, 162.7514, 135.0077, -96.2844, -86.8796, 17.3809, 45.9074, 32.4991, -32.8543, 45.1083, 26.8494, -302.5733, -41.7193, -138.8503, 202.1869, -33.4428, 195.0475, -16.9324, -1.0917, -25.3806, -12.1903, -125.9478, 121.7421, 136.6708, 41.1816, 28.5511, 1.523, 70.9952, -43.6307, -42.5501, 129.8285, 79.9542, -87.1455, -45.7545, -65.821, -43.9003, -19.457, 12.5916, -407.6413, 42.9119, 12.1585, -88.3788, 42.2525, 46.4921, -30.1775, 45.985, 130.4789, 13.8828, -4.0005, 17.8596, -18.3214, -87.9911, 14.3752, -22.7012, -58.8127, 5.6681, -19.6807, 33.0496, 42.8784, -9.9038, -32.2279, 70.4939, 12.0494, 58.4345, 26.9206]), features_scaled=DenseVector([8.0316, 0.3573, 1.994, 0.7931, -0.4516, -1.9317, 0.6016, -0.1155, 1.7732, 0.7032, 0.5077, 0.0409, 1.9942, 1.1758, 0.4799, 0.4186, 1.6337, 0.7205, 2.3511, 1.1845, 1.4851, 1.648, 0.7582, 2.0678, 0.1604, -0.0912, 0.2987, 0.6183, -0.5899, -0.6441, 0.1754, 0.6393, 0.4367, -0.6139, 1.0616, 0.2488, -0.729, -0.092, -0.5327, 0.9827, -0.2791, 1.6275, -0.23, -0.0284, -0.6109, -0.2217, -0.2676, 0.464, 0.6523, 0.3371, 0.3052, 0.0203, 1.0145, -0.5239, -0.7361, 0.4741, 0.257, -0.3267, -0.2706, -0.4568, -0.7385, -0.3956, 0.3342, -1.3227, 0.1931, 0.0949, -0.8845, 0.3621, 0.4371, -0.8201, 0.1828, 0.5696, 0.0848, -0.0632, 0.2761, -0.6951, -0.3281, 0.0997, -0.1129, -0.4749, 0.1766, -0.1121, 0.2704, 0.4511, -0.6128, -0.2816, 0.4052, 0.9028, 0.3149, 1.2188]))]"
      ]
     },
     "execution_count": 41,
     "metadata": {},
     "output_type": "execute_result"
    }
   ],
   "source": [
    "from pyspark import SparkContext\n",
    "from pyspark.ml.linalg import DenseVector\n",
    "from pyspark.ml.feature import StandardScaler\n",
    "\n",
    "\n",
    "filename=\"MSD.txt\"\n",
    "spark = SparkSession.builder.getOrCreate()\n",
    "data = spark.read.load(filename , format = 'csv',header = 'false', inferschema = 'true', sep= \",\")\n",
    "print(\"# of rows in data:\",data.count())\n",
    "data = data.withColumnRenamed(\"_c0\", \"target\")\n",
    "\n",
    "#Normalize features between 0 and 1\n",
    "#References: https://www.datacamp.com/community/tutorials/apache-spark-tutorial-machine-learning\n",
    "\n",
    "\n",
    "input_data = data.rdd.map(lambda x: (x[0], DenseVector(x[1:])))\n",
    "df = spark.createDataFrame(input_data, [\"target\", \"features\"])\n",
    "standardScaler = StandardScaler(inputCol=\"features\", outputCol=\"features_scaled\")\n",
    "scaler = standardScaler.fit(df)\n",
    "scaled_df = scaler.transform(df)\n",
    "\n",
    "\n",
    "scaled_df.take(2)\n",
    "\n"
   ]
  },
  {
   "cell_type": "code",
   "execution_count": 42,
   "metadata": {},
   "outputs": [
    {
     "name": "stdout",
     "output_type": "stream",
     "text": [
      "+------+--------------------+--------------------+\n",
      "|target|            features|     features_scaled|\n",
      "+------+--------------------+--------------------+\n",
      "|  2001|[49.94357,21.4711...|[8.23124681607229...|\n",
      "|  2001|[48.73215,18.4293...|[8.03159154477458...|\n",
      "|  2001|[50.95714,31.8560...|[8.39829424250509...|\n",
      "|  2001|[48.2475,-1.89837...|[7.95171592175825...|\n",
      "|  2001|[50.9702,42.20998...|[8.40044667340696...|\n",
      "|  2001|[50.54767,0.31568...|[8.33080910610460...|\n",
      "|  2001|[50.57546,33.1784...|[8.33538920218141...|\n",
      "|  2001|[48.26892,8.97526...|[7.95524617213483...|\n",
      "|  2001|[49.75468,33.9958...|[8.20011567724725...|\n",
      "|  2007|[45.17809,46.3423...|[7.44584356842587...|\n",
      "|  2008|[39.13076,-23.017...|[6.44917741484017...|\n",
      "|  2002|[37.66498,-34.059...|[6.20760083234792...|\n",
      "|  2004|[26.51957,-148.15...|[4.37071531182305...|\n",
      "|  2003|[37.68491,-26.841...|[6.21088551442099...|\n",
      "|  1999|[39.11695,-8.2976...|[6.44690137573183...|\n",
      "|  2003|[35.05129,-67.977...|[5.77683612148123...|\n",
      "|  2002|[33.63129,-96.149...|[5.54280458391148...|\n",
      "|  1992|[41.38639,-20.786...|[6.82092991983204...|\n",
      "|  1997|[37.45034,11.4261...|[6.17222581176765...|\n",
      "|  1987|[39.71092,-4.928,...|[6.54479413092219...|\n",
      "+------+--------------------+--------------------+\n",
      "only showing top 20 rows\n",
      "\n"
     ]
    }
   ],
   "source": [
    "scaled_df.show()"
   ]
  },
  {
   "cell_type": "markdown",
   "metadata": {},
   "source": [
    "<h3> Part 2: </h3> Split dataset into training, validation and test set"
   ]
  },
  {
   "cell_type": "code",
   "execution_count": 43,
   "metadata": {},
   "outputs": [],
   "source": [
    "scaled_df=scaled_df.drop('features')\n"
   ]
  },
  {
   "cell_type": "code",
   "execution_count": 44,
   "metadata": {},
   "outputs": [
    {
     "name": "stdout",
     "output_type": "stream",
     "text": [
      "+------+--------------------+\n",
      "|target|            features|\n",
      "+------+--------------------+\n",
      "|  2001|[8.23124681607229...|\n",
      "|  2001|[8.03159154477458...|\n",
      "|  2001|[8.39829424250509...|\n",
      "|  2001|[7.95171592175825...|\n",
      "|  2001|[8.40044667340696...|\n",
      "|  2001|[8.33080910610460...|\n",
      "|  2001|[8.33538920218141...|\n",
      "|  2001|[7.95524617213483...|\n",
      "|  2001|[8.20011567724725...|\n",
      "|  2007|[7.44584356842587...|\n",
      "|  2008|[6.44917741484017...|\n",
      "|  2002|[6.20760083234792...|\n",
      "|  2004|[4.37071531182305...|\n",
      "|  2003|[6.21088551442099...|\n",
      "|  1999|[6.44690137573183...|\n",
      "|  2003|[5.77683612148123...|\n",
      "|  2002|[5.54280458391148...|\n",
      "|  1992|[6.82092991983204...|\n",
      "|  1997|[6.17222581176765...|\n",
      "|  1987|[6.54479413092219...|\n",
      "+------+--------------------+\n",
      "only showing top 20 rows\n",
      "\n"
     ]
    }
   ],
   "source": [
    "scaled_df=scaled_df.withColumnRenamed('features_scaled', 'features')\n",
    "scaled_df.show()"
   ]
  },
  {
   "cell_type": "code",
   "execution_count": 45,
   "metadata": {},
   "outputs": [
    {
     "name": "stdout",
     "output_type": "stream",
     "text": [
      "+------+--------------------+\n",
      "|target|            features|\n",
      "+------+--------------------+\n",
      "|2001.0|[8.23124681607229...|\n",
      "|2001.0|[8.03159154477458...|\n",
      "|2001.0|[8.39829424250509...|\n",
      "|2001.0|[7.95171592175825...|\n",
      "|2001.0|[8.40044667340696...|\n",
      "|2001.0|[8.33080910610460...|\n",
      "|2001.0|[8.33538920218141...|\n",
      "|2001.0|[7.95524617213483...|\n",
      "|2001.0|[8.20011567724725...|\n",
      "|2007.0|[7.44584356842587...|\n",
      "|2008.0|[6.44917741484017...|\n",
      "|2002.0|[6.20760083234792...|\n",
      "|2004.0|[4.37071531182305...|\n",
      "|2003.0|[6.21088551442099...|\n",
      "|1999.0|[6.44690137573183...|\n",
      "|2003.0|[5.77683612148123...|\n",
      "|2002.0|[5.54280458391148...|\n",
      "|1992.0|[6.82092991983204...|\n",
      "|1997.0|[6.17222581176765...|\n",
      "|1987.0|[6.54479413092219...|\n",
      "+------+--------------------+\n",
      "only showing top 20 rows\n",
      "\n",
      "None\n"
     ]
    }
   ],
   "source": [
    "from pyspark.sql.types import DoubleType\n",
    "\n",
    "scaled_df = scaled_df.withColumn(\"target\", scaled_df.target.cast(DoubleType()))\n",
    "print(scaled_df.show())\n",
    "train_data, test_set = scaled_df.randomSplit([.8,.2],seed=1234)\n",
    "train_set, validation_set = train_data.randomSplit([.9,.1],seed=1234)"
   ]
  },
  {
   "cell_type": "markdown",
   "metadata": {},
   "source": [
    "<h3> Part 3: </h3> Fitting Linear Model on Training Data "
   ]
  },
  {
   "cell_type": "code",
   "execution_count": 46,
   "metadata": {},
   "outputs": [],
   "source": [
    "#References: https://spark.apache.org/docs/1.5.2/ml-linear-methods.html\n",
    "#References: https://towardsdatascience.com/building-a-linear-regression-with-pyspark-and-mllib-d065c3ba246a\n",
    "from pyspark.ml.regression import LinearRegression\n",
    "lr = LinearRegression(featuresCol = 'features', labelCol='target', maxIter=50, regParam=0.3, elasticNetParam=0.8)\n",
    "lr_model = lr.fit(train_set)\n",
    "\n"
   ]
  },
  {
   "cell_type": "code",
   "execution_count": 47,
   "metadata": {},
   "outputs": [
    {
     "name": "stdout",
     "output_type": "stream",
     "text": [
      "+------------------+------+--------------------+\n",
      "|        prediction|target|            features|\n",
      "+------------------+------+--------------------+\n",
      "|1994.8330931356024|1922.0|[7.20010056532111...|\n",
      "|1989.8156339085174|1938.0|[5.35972929337399...|\n",
      "|1986.0199576059513|1939.0|[5.63631666426479...|\n",
      "|1988.7640660119512|1939.0|[6.04095060028522...|\n",
      "|1989.3374780066458|1951.0|[6.66857538887413...|\n",
      "+------------------+------+--------------------+\n",
      "only showing top 5 rows\n",
      "\n",
      "Root mean square error (RMSE) on validation data = 9.69632\n"
     ]
    }
   ],
   "source": [
    "from pyspark.ml.evaluation import RegressionEvaluator\n",
    "lr_predictions = lr_model.transform(validation_set)\n",
    "lr_predictions.select(\"prediction\",\"target\",\"features\").show(5)\n",
    "from pyspark.ml.evaluation import RegressionEvaluator\n",
    "lr_evaluator = RegressionEvaluator(predictionCol=\"prediction\", \\\n",
    "                 labelCol=\"target\",metricName=\"rmse\")\n",
    "print(\"Root mean square error (RMSE) on validation data = %g\" % lr_evaluator.evaluate(lr_predictions))"
   ]
  },
  {
   "cell_type": "markdown",
   "metadata": {},
   "source": [
    "<h3> Part 3: </h3> Visualize the log of the training error as a function of iteration"
   ]
  },
  {
   "cell_type": "code",
   "execution_count": 48,
   "metadata": {},
   "outputs": [
    {
     "data": {
      "text/plain": [
       "Text(0, 0.5, 'Iterations')"
      ]
     },
     "execution_count": 48,
     "metadata": {},
     "output_type": "execute_result"
    },
    {
     "data": {
      "image/png": "[encoded data removed]",
      "text/plain": [
       "<Figure size 432x288 with 1 Axes>"
      ]
     },
     "metadata": {},
     "output_type": "display_data"
    }
   ],
   "source": [
    "trainingSummary = lr_model.summary\n",
    "iterations = range(1,trainingSummary.totalIterations+1)\n",
    "\n",
    "import matplotlib.pyplot as plt\n",
    "import numpy as np\n",
    "\n",
    "fig, ax = plt.subplots()\n",
    "plt.scatter(iterations, np.log(trainingSummary.objectiveHistory))\n",
    "plt.title('Log Training Error vs. Iterations')\n",
    "plt.xlabel('Log Training Error')\n",
    "plt.ylabel('Iterations')"
   ]
  },
  {
   "cell_type": "markdown",
   "metadata": {},
   "source": [
    "<h3> Part 4: </h3> \n",
    "Use this model for prediction on test data"
   ]
  },
  {
   "cell_type": "code",
   "execution_count": 49,
   "metadata": {},
   "outputs": [
    {
     "name": "stdout",
     "output_type": "stream",
     "text": [
      "+------------------+------+--------------------+\n",
      "|        prediction|target|            features|\n",
      "+------------------+------+--------------------+\n",
      "|1991.8310524585897|1922.0|[6.58704341589120...|\n",
      "|1996.1796059469502|1922.0|[6.75137310989124...|\n",
      "| 1994.499900093061|1922.0|[6.76165566455953...|\n",
      "| 1996.266250324707|1928.0|[6.11344598932100...|\n",
      "|1988.5685191978248|1932.0|[5.31075242575455...|\n",
      "+------------------+------+--------------------+\n",
      "only showing top 5 rows\n",
      "\n",
      "Root mean square error (RMSE) on test data = 9.71138\n"
     ]
    }
   ],
   "source": [
    "lr_predictions = lr_model.transform(test_set)\n",
    "lr_predictions.select(\"prediction\",\"target\",\"features\").show(5)\n",
    "from pyspark.ml.evaluation import RegressionEvaluator\n",
    "lr_evaluator = RegressionEvaluator(predictionCol=\"prediction\", \\\n",
    "                 labelCol=\"target\",metricName=\"rmse\")\n",
    "print(\"Root mean square error (RMSE) on test data = %g\" % lr_evaluator.evaluate(lr_predictions))\n",
    "\n"
   ]
  }
 ],
 "metadata": {
  "kernelspec": {
   "display_name": "Python 3",
   "language": "python",
   "name": "python3"
  },
  "language_info": {
   "codemirror_mode": {
    "name": "ipython",
    "version": 3
   },
   "file_extension": ".py",
   "mimetype": "text/x-python",
   "name": "python",
   "nbconvert_exporter": "python",
   "pygments_lexer": "ipython3",
   "version": "3.7.3"
  }
 },
 "nbformat": 4,
 "nbformat_minor": 2
}
